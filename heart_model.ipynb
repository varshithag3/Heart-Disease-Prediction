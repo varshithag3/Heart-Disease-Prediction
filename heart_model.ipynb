{
 "cells": [
  {
   "cell_type": "code",
   "execution_count": 1,
   "metadata": {},
   "outputs": [],
   "source": [
    "import pandas as pd\n",
    "import numpy as np\n",
    "import matplotlib.pyplot as plt\n",
    "from sklearn.preprocessing import StandardScaler\n",
    "from sklearn.linear_model import LogisticRegression"
   ]
  },
  {
   "cell_type": "code",
   "execution_count": 2,
   "metadata": {},
   "outputs": [],
   "source": [
    "df = pd.read_csv(\"framingham.csv\", index_col=False)"
   ]
  },
  {
   "cell_type": "code",
   "execution_count": 3,
   "metadata": {},
   "outputs": [],
   "source": [
    "#about 650 rows in total have missing values >10% impute with mean for totChol, BMI, glucose and mode for education, cigsPerDay, BP meds\n",
    "df['totChol'].fillna(df['totChol'].mean(), inplace=True)\n",
    "df['BMI'].fillna(df['BMI'].mean(), inplace=True)\n",
    "df['glucose'].fillna(df['glucose'].mean(), inplace=True)\n",
    "df['education'].fillna(df['education'].mode()[0], inplace=True)\n",
    "df['cigsPerDay'].fillna(df['cigsPerDay'].mode()[0], inplace=True)\n",
    "df['BPMeds'].fillna(df['BPMeds'].mode()[0], inplace=True)"
   ]
  },
  {
   "cell_type": "code",
   "execution_count": 4,
   "metadata": {},
   "outputs": [],
   "source": [
    "#remove 1 row with missing values for heart rate\n",
    "df.dropna(inplace=True)"
   ]
  },
  {
   "cell_type": "code",
   "execution_count": 5,
   "metadata": {},
   "outputs": [
    {
     "data": {
      "text/plain": [
       "male               0\n",
       "age                0\n",
       "education          0\n",
       "currentSmoker      0\n",
       "cigsPerDay         0\n",
       "BPMeds             0\n",
       "prevalentStroke    0\n",
       "prevalentHyp       0\n",
       "diabetes           0\n",
       "totChol            0\n",
       "sysBP              0\n",
       "diaBP              0\n",
       "BMI                0\n",
       "heartRate          0\n",
       "glucose            0\n",
       "TenYearCHD         0\n",
       "dtype: int64"
      ]
     },
     "execution_count": 5,
     "metadata": {},
     "output_type": "execute_result"
    }
   ],
   "source": [
    "df.isnull().sum()"
   ]
  },
  {
   "cell_type": "code",
   "execution_count": 12,
   "metadata": {},
   "outputs": [
    {
     "name": "stdout",
     "output_type": "stream",
     "text": [
      "56.0\n",
      "57\n"
     ]
    }
   ],
   "source": [
    "#count number of outliers\n",
    "#totChol\n",
    "q1 = df['totChol'].quantile(0.25)\n",
    "q3 = df['totChol'].quantile(0.75)\n",
    "iqr = q3-q1\n",
    "print(iqr)\n",
    "lb=df['totChol'].quantile(0.25) - (1.5 * iqr)\n",
    "ub=df['totChol'].quantile(0.75) + (1.5 * iqr)\n",
    "# count totChol beyond lb and ub\n",
    "print(df[df['totChol'] < lb].shape[0] + df[df['totChol'] > ub].shape[0])"
   ]
  },
  {
   "cell_type": "code",
   "execution_count": 13,
   "metadata": {},
   "outputs": [],
   "source": [
    "#impute lb values to less than lb and ub values to greater than ub\n",
    "df.loc[df['totChol'] < lb, 'totChol'] = lb\n",
    "df.loc[df['totChol'] > ub, 'totChol'] = ub\n",
    "#'sysBP', 'diaBP', 'BMI', 'heartRate', 'glucose'"
   ]
  },
  {
   "cell_type": "code",
   "execution_count": 14,
   "metadata": {},
   "outputs": [
    {
     "name": "stdout",
     "output_type": "stream",
     "text": [
      "27.0\n",
      "126\n"
     ]
    }
   ],
   "source": [
    "#count number of outliers\n",
    "#sysBP\n",
    "q1 = df['sysBP'].quantile(0.25)\n",
    "q3 = df['sysBP'].quantile(0.75)\n",
    "iqr = q3-q1\n",
    "print(iqr)\n",
    "lb=df['sysBP'].quantile(0.25) - (1.5 * iqr)\n",
    "ub=df['sysBP'].quantile(0.75) + (1.5 * iqr)\n",
    "# count sysBP beyond lb and ub\n",
    "print(df[df['sysBP'] < lb].shape[0] + df[df['sysBP'] > ub].shape[0])"
   ]
  },
  {
   "cell_type": "code",
   "execution_count": 15,
   "metadata": {},
   "outputs": [],
   "source": [
    "#impute lb values to less than lb and ub values to greater than ub\n",
    "df.loc[df['sysBP'] < lb, 'sysBP'] = lb\n",
    "df.loc[df['sysBP'] > ub, 'sysBP'] = ub\n"
   ]
  },
  {
   "cell_type": "code",
   "execution_count": 16,
   "metadata": {},
   "outputs": [
    {
     "name": "stdout",
     "output_type": "stream",
     "text": [
      "15.0\n",
      "77\n"
     ]
    }
   ],
   "source": [
    "#count number of outliers\n",
    "#diaBP\n",
    "q1 = df['diaBP'].quantile(0.25)\n",
    "q3 = df['diaBP'].quantile(0.75)\n",
    "iqr = q3-q1\n",
    "print(iqr)\n",
    "lb=df['diaBP'].quantile(0.25) - (1.5 * iqr)\n",
    "ub=df['diaBP'].quantile(0.75) + (1.5 * iqr)\n",
    "# count diaBP beyond lb and ub\n",
    "print(df[df['diaBP'] < lb].shape[0] + df[df['diaBP'] > ub].shape[0])\n"
   ]
  },
  {
   "cell_type": "code",
   "execution_count": 17,
   "metadata": {},
   "outputs": [],
   "source": [
    "#impute lb values to less than lb and ub values to greater than ub\n",
    "df.loc[df['diaBP'] < lb, 'diaBP'] = lb\n",
    "df.loc[df['diaBP'] > ub, 'diaBP'] = ub"
   ]
  },
  {
   "cell_type": "code",
   "execution_count": 18,
   "metadata": {},
   "outputs": [
    {
     "name": "stdout",
     "output_type": "stream",
     "text": [
      "4.950000000000003\n",
      "97\n"
     ]
    }
   ],
   "source": [
    "#count number of outliers\n",
    "#BMI\n",
    "q1 = df['BMI'].quantile(0.25)\n",
    "q3 = df['BMI'].quantile(0.75)\n",
    "iqr = q3-q1\n",
    "print(iqr)\n",
    "lb=df['BMI'].quantile(0.25) - (1.5 * iqr)\n",
    "ub=df['BMI'].quantile(0.75) + (1.5 * iqr)\n",
    "# count BMI beyond lb and ub\n",
    "print(df[df['BMI'] < lb].shape[0] + df[df['BMI'] > ub].shape[0])\n"
   ]
  },
  {
   "cell_type": "code",
   "execution_count": 19,
   "metadata": {},
   "outputs": [],
   "source": [
    "#impute lb values to less than lb and ub values to greater than ub\n",
    "df.loc[df['BMI'] < lb, 'BMI'] = lb\n",
    "df.loc[df['BMI'] > ub, 'BMI'] = ub\n"
   ]
  },
  {
   "cell_type": "code",
   "execution_count": 20,
   "metadata": {},
   "outputs": [
    {
     "name": "stdout",
     "output_type": "stream",
     "text": [
      "15.0\n",
      "76\n"
     ]
    }
   ],
   "source": [
    "#count number of outliers\n",
    "#heartRate\n",
    "q1 = df['heartRate'].quantile(0.25)\n",
    "q3 = df['heartRate'].quantile(0.75)\n",
    "iqr = q3-q1\n",
    "print(iqr)\n",
    "lb=df['heartRate'].quantile(0.25) - (1.5 * iqr)\n",
    "ub=df['heartRate'].quantile(0.75) + (1.5 * iqr)\n",
    "# count heartRate beyond lb and ub\n",
    "print(df[df['heartRate'] < lb].shape[0] + df[df['heartRate'] > ub].shape[0])"
   ]
  },
  {
   "cell_type": "code",
   "execution_count": 21,
   "metadata": {},
   "outputs": [],
   "source": [
    "#impute lb values to less than lb and ub values to greater than ub\n",
    "df.loc[df['heartRate'] < lb, 'heartRate'] = lb\n",
    "df.loc[df['heartRate'] > ub, 'heartRate'] = ub\n"
   ]
  },
  {
   "cell_type": "code",
   "execution_count": 22,
   "metadata": {},
   "outputs": [
    {
     "name": "stdout",
     "output_type": "stream",
     "text": [
      "13.0\n",
      "262\n"
     ]
    }
   ],
   "source": [
    "#count number of outliers\n",
    "#glucose\n",
    "q1 = df['glucose'].quantile(0.25)\n",
    "q3 = df['glucose'].quantile(0.75)\n",
    "iqr = q3-q1\n",
    "print(iqr)\n",
    "lb=df['glucose'].quantile(0.25) - (1.5 * iqr)\n",
    "ub=df['glucose'].quantile(0.75) + (1.5 * iqr)\n",
    "# count glucose beyond lb and ub\n",
    "print(df[df['glucose'] < lb].shape[0] + df[df['glucose'] > ub].shape[0])\n"
   ]
  },
  {
   "cell_type": "code",
   "execution_count": 23,
   "metadata": {},
   "outputs": [],
   "source": [
    "#impute lb values to less than lb and ub values to greater than ub\n",
    "df.loc[df['glucose'] < lb, 'glucose'] = lb\n",
    "df.loc[df['glucose'] > ub, 'glucose'] = ub\n"
   ]
  },
  {
   "cell_type": "code",
   "execution_count": 53,
   "metadata": {},
   "outputs": [
    {
     "data": {
      "text/plain": [
       "<AxesSubplot:>"
      ]
     },
     "execution_count": 53,
     "metadata": {},
     "output_type": "execute_result"
    },
    {
     "data": {
      "image/png": "[encoded data removed]",
      "text/plain": [
       "<Figure size 640x480 with 1 Axes>"
      ]
     },
     "metadata": {},
     "output_type": "display_data"
    }
   ],
   "source": [
    "#outlier detection after treatment\n",
    "df.boxplot(column=['totChol', 'sysBP', 'diaBP', 'BMI', 'heartRate', 'glucose'])"
   ]
  },
  {
   "cell_type": "code",
   "execution_count": 24,
   "metadata": {},
   "outputs": [],
   "source": [
    "X = df.values[:, :-1]\n",
    "Y = df.values[:, -1]"
   ]
  },
  {
   "cell_type": "code",
   "execution_count": 25,
   "metadata": {},
   "outputs": [
    {
     "name": "stdout",
     "output_type": "stream",
     "text": [
      "Number of 1s and 0s in TenYearCHD:\n",
      "0    3594\n",
      "1     643\n",
      "Name: TenYearCHD, dtype: int64\n"
     ]
    }
   ],
   "source": [
    "# number of 1s and 0s in TenYearCHD\n",
    "print('Number of 1s and 0s in TenYearCHD:')\n",
    "print(df['TenYearCHD'].value_counts())\n",
    "#imbalanced dataset"
   ]
  },
  {
   "cell_type": "code",
   "execution_count": 26,
   "metadata": {},
   "outputs": [],
   "source": [
    "from imblearn.over_sampling import RandomOverSampler\n",
    "ros = RandomOverSampler(random_state=42)\n",
    "X_resampled, Y_resampled = ros.fit_resample(X, Y)"
   ]
  },
  {
   "cell_type": "code",
   "execution_count": 27,
   "metadata": {},
   "outputs": [
    {
     "name": "stdout",
     "output_type": "stream",
     "text": [
      "Number of 1s and 0s in TenYearCHD after resampling:\n",
      "0.0    3594\n",
      "1.0    3594\n",
      "dtype: int64\n"
     ]
    }
   ],
   "source": [
    "#y resampled is now balanced\n",
    "print('Number of 1s and 0s in TenYearCHD after resampling:')\n",
    "print(pd.Series(Y_resampled).value_counts())"
   ]
  },
  {
   "cell_type": "code",
   "execution_count": 28,
   "metadata": {},
   "outputs": [],
   "source": [
    "object = StandardScaler()\n",
    "X_std = object.fit_transform(X_resampled)"
   ]
  },
  {
   "cell_type": "code",
   "execution_count": 30,
   "metadata": {},
   "outputs": [],
   "source": [
    "#split data into train and test\n",
    "#import train_test_split function\n",
    "from sklearn.model_selection import train_test_split\n",
    "X_train, X_test, y_train, y_test = train_test_split(X_std, Y_resampled, test_size=0.2, random_state=42)"
   ]
  },
  {
   "cell_type": "code",
   "execution_count": 31,
   "metadata": {},
   "outputs": [
    {
     "name": "stdout",
     "output_type": "stream",
     "text": [
      "Random Forest Validation Accuracy: 97.22%\n"
     ]
    }
   ],
   "source": [
    "from sklearn.ensemble import RandomForestClassifier\n",
    "\n",
    "rf = RandomForestClassifier()\n",
    "\n",
    "# Fit the model on the training data\n",
    "rf.fit(X_train, y_train)\n",
    "\n",
    "# Make predictions on the validation data\n",
    "y_pred = rf.predict(X_test)\n",
    "\n",
    "from sklearn.metrics import accuracy_score\n",
    "\n",
    "rf_accuracy = accuracy_score(y_pred, y_test)\n",
    "print(f\"Random Forest Validation Accuracy: {rf_accuracy:.2%}\")"
   ]
  },
  {
   "cell_type": "code",
   "execution_count": 52,
   "metadata": {},
   "outputs": [
    {
     "name": "stdout",
     "output_type": "stream",
     "text": [
      "Accuracy scores for the 5 folds: [0.96940195 0.97496523 0.97357441 0.98121086 0.97494781]\n",
      "Mean cross-validation score: 97.48%\n"
     ]
    }
   ],
   "source": [
    "#cross validation for  Random Forest\n",
    "from sklearn.model_selection import cross_val_score\n",
    "rf_cv_scores = cross_val_score(rf, X_std, Y_resampled, cv=5)\n",
    "print(f\"Accuracy scores for the 5 folds: {rf_cv_scores}\")\n",
    "print(f\"Mean cross-validation score: {rf_cv_scores.mean():.2%}\")\n"
   ]
  },
  {
   "cell_type": "code",
   "execution_count": 32,
   "metadata": {},
   "outputs": [
    {
     "name": "stdout",
     "output_type": "stream",
     "text": [
      "Precision: 0.95\n",
      "Recall: 0.99\n",
      "F1: 0.97\n",
      "AUC: 0.97\n"
     ]
    }
   ],
   "source": [
    "import seaborn as sns\n",
    "from sklearn.metrics import precision_score, recall_score, roc_auc_score, f1_score, confusion_matrix, ConfusionMatrixDisplay\n",
    "print(f'Precision: {precision_score(y_test, y_pred):.2f}')\n",
    "print(f'Recall: {recall_score(y_test, y_pred):.2f}')\n",
    "print(f'F1: {f1_score(y_test, y_pred):.2f}')\n",
    "print(f'AUC: {roc_auc_score(y_test, y_pred):.2f}')"
   ]
  },
  {
   "cell_type": "code",
   "execution_count": 33,
   "metadata": {},
   "outputs": [
    {
     "name": "stdout",
     "output_type": "stream",
     "text": [
      "Confusion matrix = \n",
      "[[719  32]\n",
      " [  8 679]]\n"
     ]
    }
   ],
   "source": [
    "cm = confusion_matrix(y_test, y_pred)\n",
    "print(f\"Confusion matrix = \\n{cm}\")"
   ]
  },
  {
   "cell_type": "code",
   "execution_count": 49,
   "metadata": {},
   "outputs": [
    {
     "name": "stdout",
     "output_type": "stream",
     "text": [
      "Boosting Validation Accuracy: 71.00%\n"
     ]
    }
   ],
   "source": [
    "#gradientboostingclassifier\n",
    "#accuracy score\n",
    "from sklearn.metrics import accuracy_score\n",
    "from sklearn.ensemble import GradientBoostingClassifier\n",
    "gb = GradientBoostingClassifier(random_state=42)\n",
    "\n",
    "# Fit the model to the training data\n",
    "gb.fit(X_train, y_train)\n",
    "\n",
    "# Predict the classes of the validation set\n",
    "y_pred = gb.predict(X_test)\n",
    "\n",
    "gb_accuracy = accuracy_score(y_pred, y_test)\n",
    "print(f\"Boosting Validation Accuracy: {gb_accuracy:.2%}\")"
   ]
  },
  {
   "cell_type": "code",
   "execution_count": 50,
   "metadata": {},
   "outputs": [
    {
     "name": "stdout",
     "output_type": "stream",
     "text": [
      "Precision: 0.69\n",
      "Recall: 0.72\n",
      "F1: 0.70\n",
      "AUC: 0.71\n"
     ]
    }
   ],
   "source": [
    "import seaborn as sns\n",
    "from sklearn.metrics import precision_score, recall_score, roc_auc_score, f1_score, confusion_matrix, ConfusionMatrixDisplay\n",
    "print(f'Precision: {precision_score(y_test, y_pred):.2f}')\n",
    "print(f'Recall: {recall_score(y_test, y_pred):.2f}')\n",
    "print(f'F1: {f1_score(y_test, y_pred):.2f}')\n",
    "print(f'AUC: {roc_auc_score(y_test, y_pred):.2f}')"
   ]
  },
  {
   "cell_type": "code",
   "execution_count": 51,
   "metadata": {},
   "outputs": [
    {
     "name": "stdout",
     "output_type": "stream",
     "text": [
      "Confusion matrix = \n",
      "[[527 224]\n",
      " [193 494]]\n"
     ]
    }
   ],
   "source": [
    "#confusion matrix\n",
    "cm = confusion_matrix(y_test, y_pred)\n",
    "print(f\"Confusion matrix = \\n{cm}\")\n"
   ]
  },
  {
   "cell_type": "code",
   "execution_count": 42,
   "metadata": {},
   "outputs": [
    {
     "data": {
      "text/plain": [
       "array([0.72956522, 0.72782609, 0.71391304, 0.71826087, 0.72521739])"
      ]
     },
     "execution_count": 42,
     "metadata": {},
     "output_type": "execute_result"
    }
   ],
   "source": [
    "#cross validation for gradient boosting\n",
    "from sklearn.model_selection import cross_val_score\n",
    "from sklearn.ensemble import GradientBoostingClassifier\n",
    "cgb = GradientBoostingClassifier(random_state=42)\n",
    "cross_val_score(cgb, X_train, y_train, cv=5)\n"
   ]
  },
  {
   "cell_type": "code",
   "execution_count": 43,
   "metadata": {},
   "outputs": [
    {
     "name": "stdout",
     "output_type": "stream",
     "text": [
      "Decision Tree Validation Accuracy: 92.00%\n"
     ]
    }
   ],
   "source": [
    "#decision tree\n",
    "from sklearn.tree import DecisionTreeClassifier\n",
    "dt = DecisionTreeClassifier(random_state=42)\n",
    "#fitting the model\n",
    "dt.fit(X_train, y_train)\n",
    "y_pred = dt.predict(X_test)\n",
    "\n",
    "#accuracy score\n",
    "from sklearn.metrics import accuracy_score\n",
    "dt_accuracy = accuracy_score(y_pred, y_test)\n",
    "print(f\"Decision Tree Validation Accuracy: {dt_accuracy:.2%}\")"
   ]
  },
  {
   "cell_type": "code",
   "execution_count": 44,
   "metadata": {},
   "outputs": [
    {
     "name": "stdout",
     "output_type": "stream",
     "text": [
      "Precision: 0.86\n",
      "Recall: 0.99\n",
      "F1: 0.92\n",
      "AUC: 0.92\n"
     ]
    }
   ],
   "source": [
    "import seaborn as sns\n",
    "from sklearn.metrics import precision_score, recall_score, roc_auc_score, f1_score, confusion_matrix, ConfusionMatrixDisplay\n",
    "print(f'Precision: {precision_score(y_test, y_pred):.2f}')\n",
    "print(f'Recall: {recall_score(y_test, y_pred):.2f}')\n",
    "print(f'F1: {f1_score(y_test, y_pred):.2f}')\n",
    "print(f'AUC: {roc_auc_score(y_test, y_pred):.2f}')"
   ]
  },
  {
   "cell_type": "code",
   "execution_count": 45,
   "metadata": {},
   "outputs": [
    {
     "name": "stdout",
     "output_type": "stream",
     "text": [
      "Confusion matrix = \n",
      "[[641 110]\n",
      " [  5 682]]\n"
     ]
    }
   ],
   "source": [
    "#confusion matrix\n",
    "cm = confusion_matrix(y_test, y_pred)\n",
    "print(f\"Confusion matrix = \\n{cm}\")\n"
   ]
  },
  {
   "cell_type": "code",
   "execution_count": 46,
   "metadata": {},
   "outputs": [
    {
     "name": "stdout",
     "output_type": "stream",
     "text": [
      "SVM Validation Accuracy: 72.39%\n"
     ]
    }
   ],
   "source": [
    "#svm\n",
    "from sklearn.svm import SVC\n",
    "svm = SVC(random_state=42)\n",
    "#fitting the model\n",
    "svm.fit(X_train, y_train)\n",
    "y_pred = svm.predict(X_test)\n",
    "#accuracy score\n",
    "from sklearn.metrics import accuracy_score\n",
    "svm_accuracy = accuracy_score(y_pred, y_test)\n",
    "print(f\"SVM Validation Accuracy: {svm_accuracy:.2%}\")"
   ]
  },
  {
   "cell_type": "code",
   "execution_count": 47,
   "metadata": {},
   "outputs": [
    {
     "name": "stdout",
     "output_type": "stream",
     "text": [
      "Precision: 0.70\n",
      "Recall: 0.74\n",
      "F1: 0.72\n",
      "AUC: 0.72\n"
     ]
    }
   ],
   "source": [
    "import seaborn as sns\n",
    "from sklearn.metrics import precision_score, recall_score, roc_auc_score, f1_score, confusion_matrix, ConfusionMatrixDisplay\n",
    "print(f'Precision: {precision_score(y_test, y_pred):.2f}')\n",
    "print(f'Recall: {recall_score(y_test, y_pred):.2f}')\n",
    "print(f'F1: {f1_score(y_test, y_pred):.2f}')\n",
    "print(f'AUC: {roc_auc_score(y_test, y_pred):.2f}')"
   ]
  },
  {
   "cell_type": "code",
   "execution_count": 48,
   "metadata": {},
   "outputs": [
    {
     "name": "stdout",
     "output_type": "stream",
     "text": [
      "Confusion matrix = \n",
      "[[530 221]\n",
      " [176 511]]\n"
     ]
    }
   ],
   "source": [
    "#create confusion matrix\n",
    "cm = confusion_matrix(y_test, y_pred)\n",
    "print(f\"Confusion matrix = \\n{cm}\")\n"
   ]
  },
  {
   "cell_type": "code",
   "execution_count": null,
   "metadata": {},
   "outputs": [],
   "source": []
  }
 ],
 "metadata": {
  "kernelspec": {
   "display_name": "Python 3",
   "language": "python",
   "name": "python3"
  },
  "language_info": {
   "codemirror_mode": {
    "name": "ipython",
    "version": 3
   },
   "file_extension": ".py",
   "mimetype": "text/x-python",
   "name": "python",
   "nbconvert_exporter": "python",
   "pygments_lexer": "ipython3",
   "version": "3.10.11"
  },
  "orig_nbformat": 4
 },
 "nbformat": 4,
 "nbformat_minor": 2
}
